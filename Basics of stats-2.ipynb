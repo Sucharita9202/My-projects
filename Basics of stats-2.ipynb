{
 "cells": [
  {
   "cell_type": "code",
   "execution_count": 7,
   "id": "0b831dd3-5601-4b12-9d09-3a3b2117fb31",
   "metadata": {},
   "outputs": [
    {
     "data": {
      "text/plain": [
       "(1.239, 0.193, 2.977, (1.090197338451367, 1.3871359948819662))"
      ]
     },
     "execution_count": 7,
     "metadata": {},
     "output_type": "execute_result"
    }
   ],
   "source": [
    "import numpy as np\n",
    "from scipy import stats\n",
    "\n",
    "# Given data\n",
    "df = np.array([1.13, 1.55, 1.43, 0.92, 1.25, 1.36, 1.32, 0.85, 1.07, 1.48, 1.20, 1.33, 1.18, 1.22, 1.29])\n",
    "\n",
    "# Sample size\n",
    "n = len(df)\n",
    "\n",
    "# Sample mean\n",
    "sample_mean = np.mean(df)\n",
    "\n",
    "# Sample standard deviation\n",
    "sample_std = np.std(df, ddof=1)  # ddof=1 for sample standard deviation\n",
    "\n",
    "# Degrees of freedom\n",
    "dof = n - 1\n",
    "\n",
    "# t-value for 99% confidence interval\n",
    "confidence_level = 0.99\n",
    "t_value = stats.t.ppf((1 + confidence_level) / 2, dof)\n",
    "\n",
    "# Margin of error\n",
    "margin_of_error = t_value * (sample_std / np.sqrt(n))\n",
    "\n",
    "# Confidence interval\n",
    "confidence_interval = (sample_mean - margin_of_error, sample_mean + margin_of_error)\n",
    "\n",
    "sample_mean.round(3), sample_std.round(3), t_value.round(3), confidence_interval\n"
   ]
  },
  {
   "cell_type": "code",
   "execution_count": 8,
   "id": "349fbcbb-ad55-49cf-8cd9-a00e99c01ff7",
   "metadata": {},
   "outputs": [
    {
     "data": {
      "text/plain": [
       "(2.576, (1.1056514133957607, 1.3716819199375725))"
      ]
     },
     "execution_count": 8,
     "metadata": {},
     "output_type": "execute_result"
    }
   ],
   "source": [
    "# Given population standard deviation\n",
    "population_std = 0.2\n",
    "\n",
    "# Z-value for 99% confidence interval\n",
    "confidence_level = 0.99\n",
    "z_value = stats.norm.ppf((1 + confidence_level) / 2)\n",
    "\n",
    "# Margin of error\n",
    "margin_of_error_known_sigma = z_value * (population_std / np.sqrt(n))\n",
    "\n",
    "# Confidence interval\n",
    "confidence_interval_known_sigma = (sample_mean - margin_of_error_known_sigma, sample_mean + margin_of_error_known_sigma)\n",
    "\n",
    "z_value.round(3), confidence_interval_known_sigma\n"
   ]
  },
  {
   "cell_type": "code",
   "execution_count": 9,
   "id": "3bd20676-af5a-42b7-9363-ae2e979e077c",
   "metadata": {},
   "outputs": [
    {
     "data": {
      "text/plain": [
       "(2.576, (1.1056514133957607, 1.3716819199375725))"
      ]
     },
     "execution_count": 9,
     "metadata": {},
     "output_type": "execute_result"
    }
   ],
   "source": [
    "# Given population standard deviation\n",
    "population_std = 0.2\n",
    "\n",
    "# Z-value for 99% confidence interval\n",
    "confidence_level = 0.99\n",
    "z_value = stats.norm.ppf((1 + confidence_level) / 2)\n",
    "\n",
    "# Margin of error\n",
    "margin_of_error_known_sigma = z_value * (population_std / np.sqrt(n))\n",
    "\n",
    "# Confidence interval\n",
    "confidence_interval_known_sigma = (sample_mean - margin_of_error_known_sigma, sample_mean + margin_of_error_known_sigma)\n",
    "\n",
    "z_value.round(3), confidence_interval_known_sigma\n"
   ]
  }
 ],
 "metadata": {
  "kernelspec": {
   "display_name": "Python 3 (ipykernel)",
   "language": "python",
   "name": "python3"
  },
  "language_info": {
   "codemirror_mode": {
    "name": "ipython",
    "version": 3
   },
   "file_extension": ".py",
   "mimetype": "text/x-python",
   "name": "python",
   "nbconvert_exporter": "python",
   "pygments_lexer": "ipython3",
   "version": "3.11.7"
  }
 },
 "nbformat": 4,
 "nbformat_minor": 5
}
