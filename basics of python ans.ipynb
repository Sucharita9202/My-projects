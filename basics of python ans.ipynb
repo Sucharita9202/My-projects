{
 "cells": [
  {
   "cell_type": "code",
   "execution_count": 2,
   "id": "ab683d54-8a18-4299-8d7a-bdcdb0c90d2c",
   "metadata": {},
   "outputs": [
    {
     "name": "stdin",
     "output_type": "stream",
     "text": [
      "enter any number 11\n"
     ]
    },
    {
     "name": "stdout",
     "output_type": "stream",
     "text": [
      "11 ia a prime number\n"
     ]
    }
   ],
   "source": [
    "num = int(input(\"enter any number\"))\n",
    "\n",
    "if(num<2):\n",
    "    print(num, \"is not a prime number\")\n",
    "else:\n",
    "    for i in range(3, int(num**0.5) + 1, 2):    # check divisibility only by odd numbers from 3 to the square root of num\n",
    "        if (num%i) == 0:\n",
    "            print(num, \"is not a prime number\")\n",
    "        else:\n",
    "            print(num, \"ia a prime number\")        "
   ]
  },
  {
   "cell_type": "code",
   "execution_count": 3,
   "id": "8b6c1ada-58a4-4455-9272-9e87a1425d69",
   "metadata": {},
   "outputs": [
    {
     "name": "stdin",
     "output_type": "stream",
     "text": [
      "What is the product of 72 and 6?  384\n"
     ]
    },
    {
     "name": "stdout",
     "output_type": "stream",
     "text": [
      "wrong. The correct product is 432.\n"
     ]
    }
   ],
   "source": [
    "import random\n",
    "def main():\n",
    "    \n",
    "  # generate two numbers randomly between 1 and 100 (including both 1 and 100)\n",
    "  n1 = random.randint(1, 100)\n",
    "  n2 = random.randint(1, 100)\n",
    "\n",
    "  # calculate the correct product\n",
    "  product = n1 * n2\n",
    "\n",
    "  # ask the person their answer \n",
    "  answer = int(input(f\"What is the product of {n1} and {n2}? \"))\n",
    "\n",
    "  # check if the answer is right\n",
    "  if answer == product:\n",
    "    print(\"the answer is right\")                          #if the answer is right\n",
    "  else:\n",
    "    print(f\"wrong. The correct product is {product}.\")   #if the answer is wrong\n",
    "\n",
    "if __name__ == \"__main__\":\n",
    "  main()"
   ]
  },
  {
   "cell_type": "code",
   "execution_count": 1,
   "id": "5ce27d9b-6995-4aaf-9247-cfd82df7b1cf",
   "metadata": {},
   "outputs": [
    {
     "name": "stdout",
     "output_type": "stream",
     "text": [
      "Square of 100 (even): 10000\n",
      "Square of 102 (even): 10404\n",
      "Square of 104 (even): 10816\n",
      "Square of 106 (even): 11236\n",
      "Square of 108 (even): 11664\n",
      "Square of 110 (even): 12100\n",
      "Square of 112 (even): 12544\n",
      "Square of 114 (even): 12996\n",
      "Square of 116 (even): 13456\n",
      "Square of 118 (even): 13924\n",
      "Square of 120 (even): 14400\n",
      "Square of 122 (even): 14884\n",
      "Square of 124 (even): 15376\n",
      "Square of 126 (even): 15876\n",
      "Square of 128 (even): 16384\n",
      "Square of 130 (even): 16900\n",
      "Square of 132 (even): 17424\n",
      "Square of 134 (even): 17956\n",
      "Square of 136 (even): 18496\n",
      "Square of 138 (even): 19044\n",
      "Square of 140 (even): 19600\n",
      "Square of 142 (even): 20164\n",
      "Square of 144 (even): 20736\n",
      "Square of 146 (even): 21316\n",
      "Square of 148 (even): 21904\n",
      "Square of 150 (even): 22500\n",
      "Square of 152 (even): 23104\n",
      "Square of 154 (even): 23716\n",
      "Square of 156 (even): 24336\n",
      "Square of 158 (even): 24964\n",
      "Square of 160 (even): 25600\n",
      "Square of 162 (even): 26244\n",
      "Square of 164 (even): 26896\n",
      "Square of 166 (even): 27556\n",
      "Square of 168 (even): 28224\n",
      "Square of 170 (even): 28900\n",
      "Square of 172 (even): 29584\n",
      "Square of 174 (even): 30276\n",
      "Square of 176 (even): 30976\n",
      "Square of 178 (even): 31684\n",
      "Square of 180 (even): 32400\n",
      "Square of 182 (even): 33124\n",
      "Square of 184 (even): 33856\n",
      "Square of 186 (even): 34596\n",
      "Square of 188 (even): 35344\n",
      "Square of 190 (even): 36100\n",
      "Square of 192 (even): 36864\n",
      "Square of 194 (even): 37636\n",
      "Square of 196 (even): 38416\n",
      "Square of 198 (even): 39204\n",
      "Square of 200 (even): 40000\n"
     ]
    }
   ],
   "source": [
    "num= 100\n",
    "\n",
    "# loop through numbers from 100 to 200\n",
    "for num in range(100, 201):\n",
    "  # check if even using modulo operator\n",
    "  if num % 2 == 0:\n",
    "    # calculate and print the square\n",
    "    square = num * num\n",
    "    print(f\"Square of {num} (even): {square}\")"
   ]
  },
  {
   "cell_type": "code",
   "execution_count": 9,
   "id": "292e3e82-66a8-4593-a6ac-0a97b5de97d8",
   "metadata": {},
   "outputs": [
    {
     "name": "stdout",
     "output_type": "stream",
     "text": [
      "'this': 2\n",
      "'is': 1\n",
      "'a': 1\n",
      "'sample': 1\n",
      "'text.': 1\n",
      "'text': 1\n",
      "'will': 1\n",
      "'be': 1\n",
      "'used': 1\n",
      "'to': 1\n",
      "'demonstrate': 1\n",
      "'the': 1\n",
      "'word': 1\n",
      "'counter.': 1\n"
     ]
    }
   ],
   "source": [
    "def count_words(input_text):\n",
    "    # converting text into lowercase and split it into words\n",
    "    words = input_text.lower().split()\n",
    "    \n",
    "    # create an empty dictionary to store word counts\n",
    "    word_count = {}\n",
    "    \n",
    "    # count each word in the list\n",
    "    for word in words:\n",
    "        if word in word_count:\n",
    "            word_count[word] += 1\n",
    "        else:\n",
    "            word_count[word] = 1\n",
    "    \n",
    "    # print the results\n",
    "    for word, count in word_count.items():\n",
    "        print(f\"'{word}': {count}\")\n",
    "\n",
    "# example usage\n",
    "input_text = \"This is a sample text. This text will be used to demonstrate the word counter.\"\n",
    "count_words(input_text)"
   ]
  },
  {
   "cell_type": "code",
   "execution_count": 1,
   "id": "d8ef62e9-ab44-487a-a7bb-b8b425a3f68b",
   "metadata": {},
   "outputs": [
    {
     "name": "stdout",
     "output_type": "stream",
     "text": [
      "true\n"
     ]
    }
   ],
   "source": [
    "# function which return reverse of a string\n",
    "\n",
    "def isPalindrome(s):\n",
    "\treturn s == s[::-1]\n",
    "\n",
    "# Driver code\n",
    "s = \"racecar\"\n",
    "ans = isPalindrome(s)\n",
    "\n",
    "if (ans):\n",
    "\tprint(\"true\")\n",
    "else:\n",
    "\tprint(\"false\")"
   ]
  },
  {
   "cell_type": "code",
   "execution_count": null,
   "id": "f4deb2cc-0530-4095-8bfb-cd87d90fbcc7",
   "metadata": {},
   "outputs": [],
   "source": []
  }
 ],
 "metadata": {
  "kernelspec": {
   "display_name": "Python 3 (ipykernel)",
   "language": "python",
   "name": "python3"
  },
  "language_info": {
   "codemirror_mode": {
    "name": "ipython",
    "version": 3
   },
   "file_extension": ".py",
   "mimetype": "text/x-python",
   "name": "python",
   "nbconvert_exporter": "python",
   "pygments_lexer": "ipython3",
   "version": "3.11.7"
  }
 },
 "nbformat": 4,
 "nbformat_minor": 5
}
